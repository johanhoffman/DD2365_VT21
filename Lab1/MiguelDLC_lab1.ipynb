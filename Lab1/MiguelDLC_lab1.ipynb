{
 "cells": [
  {
   "cell_type": "markdown",
   "metadata": {
    "id": "view-in-github"
   },
   "source": [
    " **Source template:** <a href=\"https://colab.research.google.com/github/johanhoffman/DD2365_VT21/blob/main/template-report-Stokes.ipynb\" target=\"_parent\"><img src=\"https://colab.research.google.com/assets/colab-badge.svg\" alt=\"Open In Colab\"/></a>"
   ]
  },
  {
   "cell_type": "markdown",
   "metadata": {
    "id": "cyCUwzF-wRoW"
   },
   "source": [
    "# **The Stokes equations**\n",
    "**Johan Hoffman**\n",
    "\n",
    "**Lab made by Miguel De Le Court**"
   ]
  },
  {
   "cell_type": "markdown",
   "metadata": {
    "id": "6UFTSzW7P8kL"
   },
   "source": [
    "# **Abstract**\n",
    "In this short report, we use FEniCS to solve the Stokes equations. We verify that Taylor-Hood elements are stable, while equal order elements for the velocity and pressure lead to unstable results. We also implement an stable equal order simulation using the Brezzi-Pitkäranta stabilization.\n",
    "\n",
    "This report was made as part of the course DD2365 Advanced Computation in Fluid Mechanics, at the KTH Royal Institute of Technology.\n",
    "\n",
    "[DD2365 course website.](https://kth.instructure.com/courses/17071)"
   ]
  },
  {
   "cell_type": "markdown",
   "metadata": {
    "id": "OkT8J7uOWpT3"
   },
   "source": [
    "# **About the code**"
   ]
  },
  {
   "cell_type": "code",
   "execution_count": null,
   "metadata": {
    "id": "Pdll1Xc9WP0e"
   },
   "outputs": [],
   "source": [
    "\"\"\"This program is based on an example file for the course\"\"\"\n",
    "\"\"\"DD2365 Advanced Computation in Fluid Mechanics, \"\"\"\n",
    "\"\"\"KTH Royal Institute of Technology, Stockholm, Sweden.\"\"\"\n",
    "\"\"\"The template file is available at https://github.com/johanhoffman/DD2365_VT21\"\"\"\n",
    "\n",
    "# Copyright (C) 2020 Johan Hoffman (jhoffman@kth.se)\n",
    "\n",
    "# This file is part of the course DD2365 Advanced Computation in Fluid Mechanics\n",
    "# KTH Royal Institute of Technology, Stockholm, Sweden\n",
    "#\n",
    "# This is free software: you can redistribute it and/or modify\n",
    "# it under the terms of the GNU Lesser General Public License as published by\n",
    "# the Free Software Foundation, either version 3 of the License, or\n",
    "# (at your option) any later version.\n",
    "\n",
    "# This template is maintained by Johan Hoffman\n",
    "# Please report problems to jhoffman@kth.se"
   ]
  },
  {
   "cell_type": "markdown",
   "metadata": {
    "id": "l5zMzgPlRAF6"
   },
   "source": [
    "# **Introduction**\n",
    "The Stokes equations take the form\n",
    "\n",
    "$$\\nabla p -\\Delta u = f,\\quad \\nabla \\cdot u=0$$\n",
    "\n",
    "together with suitable boundary conditions.\n",
    "\n",
    "Here we present a FEniCS implementation of a mixed finite element method to solve the Stokes equations in 2D. The solution is visualized using FEniCS plotting functions, and is also exported as pvd-files which can be visualized in Paraview.\n",
    "\n",
    "To derive the weak form of the equations, multiply the momentum equation by $v\\in V$ and the continuity equation by $q\\in Q$, and then integrate over the domain $\\Omega$ and use Green's formula\n",
    "$$\n",
    "(\\nabla p -\\Delta u,v) = -(p,\\nabla \\cdot v) + (\\nabla u, \\nabla v) + <p n - \\nabla u\\cdot n, v>_{\\Gamma}\n",
    "$$\n",
    "\n",
    "We seek a finite element approximation $(u,p)\\in V\\times Q$ such that \n",
    "\n",
    "$$\n",
    "- (p,\\nabla \\cdot v) + (\\nabla u,\\nabla v) + (\\nabla \\cdot u, q) + <pn - \\nabla u\\cdot n, v>_{\\partial \\Omega} = (f,v)\n",
    "$$\n",
    "\n",
    "for all test functions $(v,q) \\in V\\times Q$. \n",
    "\n",
    "$$\n",
    "(v,w) = \\int_{\\Omega} v\\cdot w ~dx, \\quad \n",
    "<v,w>_{\\partial \\Omega} = \\int_{\\partial \\Omega} v\\cdot w~ds\n",
    "$$\n",
    "\n",
    "We divide the boundary into $\\partial \\Omega=\\Gamma_D \\cup \\Gamma_N$, with the different boundary conditions\n",
    "\n",
    "$$\n",
    "u = g_D,\\quad x\\in \\Gamma_D,\n",
    "$$\n",
    "\n",
    "$$\n",
    "-\\nu \\nabla u\\cdot n + pn = g_N, \\quad x\\in \\Gamma_N,\n",
    "$$\n",
    "\n",
    "For $x\\in \\Gamma_D$ the test function $v=0$. Hence, with $g_N=0$, as is the case here, the boundary term is zero. \n",
    "\n",
    "The equations can be expressed in residual form\n",
    "\n",
    "$$\n",
    "r(u,p;v,q) = - (p,\\nabla \\cdot v) + (\\nabla u,\\nabla v) + (\\nabla \\cdot u, q) - (f,v)\n",
    "$$\n",
    "\n",
    "To implement the velocity boundary conditions we use a penalty formulation, with a penalty parameter $\\gamma = C/h$, with $C>0$ a constant and $h$ the local mesh size. At outflow we use a \"do nothing\" stress free boundary condition. \n"
   ]
  },
  {
   "cell_type": "markdown",
   "metadata": {
    "id": "28xLGz8JX3Hh"
   },
   "source": [
    "# **Set up environment**\n",
    "## **Packages**"
   ]
  },
  {
   "cell_type": "code",
   "execution_count": null,
   "metadata": {
    "colab": {
     "base_uri": "https://localhost:8080/"
    },
    "executionInfo": {
     "elapsed": 15780,
     "status": "ok",
     "timestamp": 1618156319761,
     "user": {
      "displayName": "Miguel De le court",
      "photoUrl": "",
      "userId": "08576132637205452355"
     },
     "user_tz": -120
    },
    "id": "Xw7VlErAX7NS",
    "outputId": "f38089e7-4181-4bb2-c92a-58025c1609a7"
   },
   "outputs": [],
   "source": [
    "# Load neccessary modules.\n",
    "try:\n",
    "    from google.colab import files #Unnecessary if ran locally\n",
    "    ! sudo apt-get install texlive-latex-extra \n",
    "    ! sudo apt install texlive-fonts-recommended\n",
    "    ! sudo apt install dvipng\n",
    "    ! sudo apt-get install cm-super\n",
    "except:\n",
    "    pass\n",
    "\n",
    "import numpy as np\n",
    "import time\n",
    "\n",
    "# Install FEniCS\n",
    "try:\n",
    "    import dolfin\n",
    "except ImportError as e:\n",
    "    !apt-get install -y -qq software-properties-common\n",
    "    !add-apt-repository -y ppa:fenics-packages/fenics\n",
    "    !apt-get update -qq\n",
    "    !apt install -y --no-install-recommends fenics\n",
    "    !sed -i \"s|#if PETSC_VERSION_MAJOR == 3 && PETSC_VERSION_MINOR <= 8 && PETSC_VERSION_RELEASE == 1|#if 1|\" /usr/include/dolfin/la/PETScLUSolver.h\n",
    "    !rm -rf /usr/lib/python3/dist-packages/mpi4py*\n",
    "    !rm -rf /usr/lib/python3/dist-packages/petsc4py*\n",
    "    !rm -rf /usr/lib/python3/dist-packages/slepc4py*\n",
    "    !rm -rf /usr/lib/petsc/lib/python3/dist-packages/dolfin*\n",
    "    !rm -rf /usr/lib/petsc/lib/python3/dist-packages/mshr*\n",
    "    !wget \"https://drive.google.com/uc?export=download&id=1cT_QBJCOW_eL3BThnval3bcpb8o0w-Ad\" -O /tmp/mpi4py-2.0.0-cp37-cp37m-linux_x86_64.whl\n",
    "    !wget \"https://drive.google.com/uc?export=download&id=119i49bxlGn1mrnhTNmOvM4BqmjrT9Ppr\" -O /tmp/petsc4py-3.7.0-cp37-cp37m-linux_x86_64.whl\n",
    "    !wget \"https://drive.google.com/uc?export=download&id=1-1tVfu8qz3bRC2zvR8n3RESpesWqNnn6\" -O /tmp/slepc4py-3.7.0-cp37-cp37m-linux_x86_64.whl\n",
    "    !wget \"https://drive.google.com/uc?export=download&id=1-3qY4VIJQaXVO1HfGQIzTIURIeJbvX-9\" -O /tmp/fenics_dolfin-2019.2.0.dev0-cp37-cp37m-linux_x86_64.whl\n",
    "    !wget \"https://drive.google.com/uc?export=download&id=1-5SMjgjMuee_9WLeYtGe8N_lvipWEN7W\" -O /tmp/mshr-2019.2.0.dev0-cp37-cp37m-linux_x86_64.whl\n",
    "    !pip3 install /tmp/mpi4py-2.0.0-cp37-cp37m-linux_x86_64.whl --upgrade\n",
    "    !pip3 install /tmp/petsc4py-3.7.0-cp37-cp37m-linux_x86_64.whl --upgrade\n",
    "    !pip3 install /tmp/slepc4py-3.7.0-cp37-cp37m-linux_x86_64.whl --upgrade\n",
    "    !pip3 install /tmp/fenics_dolfin-2019.2.0.dev0-cp37-cp37m-linux_x86_64.whl --upgrade\n",
    "    !pip3 install /tmp/mshr-2019.2.0.dev0-cp37-cp37m-linux_x86_64.whl --upgrade\n",
    "    !pip3 -q install --upgrade sympy\n",
    "    import dolfin\n",
    "\n",
    "from dolfin import *; from mshr import *\n",
    "\n",
    "import dolfin.common.plotting as fenicsplot\n",
    "\n",
    "from matplotlib import pyplot as plt"
   ]
  },
  {
   "cell_type": "code",
   "execution_count": null,
   "metadata": {
    "executionInfo": {
     "elapsed": 387,
     "status": "ok",
     "timestamp": 1618156458108,
     "user": {
      "displayName": "Miguel De le court",
      "photoUrl": "",
      "userId": "08576132637205452355"
     },
     "user_tz": -120
    },
    "id": "kL-pExMqkGAA"
   },
   "outputs": [],
   "source": [
    "# Setting up matplotlib to use TeX.\n",
    "import matplotlib\n",
    "matplotlib.rc(\"text\", usetex=True)\n",
    "matplotlib.rc(\"font\", family=\"serif\")\n",
    "matplotlib.rc('image', cmap=\"Spectral_r\")\n",
    "usingtex = True\n",
    "matplotlib.rcParams.update({'font.size': 14})"
   ]
  },
  {
   "cell_type": "markdown",
   "metadata": {
    "id": "jOQvukXZq5U5"
   },
   "source": [
    "## **Mesh**\n",
    "Since we will use the same mesh for all the computations, we only define it once below."
   ]
  },
  {
   "cell_type": "code",
   "execution_count": null,
   "metadata": {
    "colab": {
     "base_uri": "https://localhost:8080/",
     "height": 394
    },
    "executionInfo": {
     "elapsed": 1768,
     "status": "ok",
     "timestamp": 1618156460790,
     "user": {
      "displayName": "Miguel De le court",
      "photoUrl": "",
      "userId": "08576132637205452355"
     },
     "user_tz": -120
    },
    "id": "_KBWOVATuBQz",
    "outputId": "6a5757cd-a546-42f6-8e73-8aa6171450cf"
   },
   "outputs": [],
   "source": [
    "# Define rectangular domain \n",
    "L = 4\n",
    "H = 2\n",
    "r = 0.2\n",
    "fsize=3 #Define the size of the figures relative to the size of the domain\n",
    "\n",
    "# Generate mesh (examples with and without a hole in the mesh) \n",
    "resolution = 32\n",
    "#mesh = RectangleMesh(Point(0.0, 0.0), Point(L, H), L*resolution, H*resolution)\n",
    "#mesh = generate_mesh(Rectangle(Point(0.0,0.0), Point(L,H)) - Circle(Point(0.5,0.5*H),0.2), resolution)\n",
    "mesh = generate_mesh(Rectangle(Point(0.0,0.0), Point(L,H)) - Circle(Point(L/2,H/2),r), resolution)\n",
    "\n",
    "# Local mesh refinement (specified by a cell marker)\n",
    "no_levels = 1\n",
    "for i in range(0,no_levels):\n",
    "  cell_marker = MeshFunction(\"bool\", mesh, mesh.topology().dim())\n",
    "  for cell in cells(mesh):\n",
    "    cell_marker[cell] = False\n",
    "    p = cell.midpoint()\n",
    "    if p.distance(Point(L/2, H/2)) < r + (1-r)/(4**i):\n",
    "        cell_marker[cell] = True\n",
    "  mesh = refine(mesh, cell_marker)\n",
    "\n",
    "fig = plt.figure(figsize=(L*fsize,H*fsize))\n",
    "plot(mesh, title=r\"\\textbf{Mesh}\")\n",
    "plt.xlim((0,L)); plt.ylim((0,H))\n",
    "plt.show()"
   ]
  },
  {
   "cell_type": "markdown",
   "metadata": {
    "id": "-le1iA8u3fS-"
   },
   "source": [
    "# Inf-sup condition: Taylor-hood elements\n",
    "\n",
    "We first define the finite element approximation spaces as taylor-hood elements, with degree 2 for the velocity and 1 for the pressure."
   ]
  },
  {
   "cell_type": "code",
   "execution_count": null,
   "metadata": {
    "colab": {
     "base_uri": "https://localhost:8080/"
    },
    "executionInfo": {
     "elapsed": 7277,
     "status": "ok",
     "timestamp": 1618156499680,
     "user": {
      "displayName": "Miguel De le court",
      "photoUrl": "",
      "userId": "08576132637205452355"
     },
     "user_tz": -120
    },
    "id": "uWeyBcYXuaPq",
    "outputId": "a701d3fb-e3e1-4c84-f3c7-f3eba2fc70f6"
   },
   "outputs": [],
   "source": [
    "# Generate mixed finite element spaces (for velocity and pressure)\n",
    "VE = VectorElement(\"CG\", mesh.ufl_cell(), 2)\n",
    "QE = FiniteElement(\"CG\", mesh.ufl_cell(), 1)\n",
    "WE = VE * QE\n",
    "\n",
    "W = FunctionSpace(mesh, WE)\n",
    "V = FunctionSpace(mesh, VE)\n",
    "Q = FunctionSpace(mesh, QE)\n",
    "\n",
    "# Define trial and test functions\n",
    "w = Function(W)\n",
    "(u, p) = (as_vector((w[0],w[1])), w[2])\n",
    "(v, q) = TestFunctions(W) "
   ]
  },
  {
   "cell_type": "markdown",
   "metadata": {
    "id": "OKzE7v-B3o9R"
   },
   "source": [
    "**Then define boundary conditions**"
   ]
  },
  {
   "cell_type": "code",
   "execution_count": null,
   "metadata": {
    "executionInfo": {
     "elapsed": 8850,
     "status": "ok",
     "timestamp": 1618156508536,
     "user": {
      "displayName": "Miguel De le court",
      "photoUrl": "",
      "userId": "08576132637205452355"
     },
     "user_tz": -120
    },
    "id": "WAsDDvdKujQT"
   },
   "outputs": [],
   "source": [
    "# Examples of inflow and outflow conditions\n",
    "XMIN = 0.0; XMAX = L\n",
    "YMIN = 0.0; YMAX = H\n",
    "uin = Expression((\"4*(x[1]*(YMAX-x[1]))/(YMAX*YMAX)\", \"0.\"), YMAX=YMAX, element = V.ufl_element()) \n",
    "#pout = 0.0\n",
    "\n",
    "# Inflow boundary (ib), outflow boundary (ob) and wall boundary (wb)\n",
    "ib = Expression(\"near(x[0],XMIN) ? 1. : 0.\", XMIN=XMIN, element = Q.ufl_element())\n",
    "ob = Expression(\"near(x[0],XMAX) ? 1. : 0.\", XMAX=XMAX, element = Q.ufl_element()) \n",
    "wb = Expression(\"x[0] > XMIN + DOLFIN_EPS && x[0] < XMAX - DOLFIN_EPS ? 1. : 0.\", XMIN=XMIN, XMAX=XMAX, element = Q.ufl_element())"
   ]
  },
  {
   "cell_type": "markdown",
   "metadata": {
    "id": "y0EnzPyU46PX"
   },
   "source": [
    "**And define and solve variational problem**"
   ]
  },
  {
   "cell_type": "code",
   "execution_count": null,
   "metadata": {
    "colab": {
     "base_uri": "https://localhost:8080/"
    },
    "executionInfo": {
     "elapsed": 6636,
     "status": "ok",
     "timestamp": 1618156516998,
     "user": {
      "displayName": "Miguel De le court",
      "photoUrl": "",
      "userId": "08576132637205452355"
     },
     "user_tz": -120
    },
    "id": "W-bCOI6LuxFi",
    "outputId": "1bf38902-0813-4bcb-f5c0-13e2b5ff0108"
   },
   "outputs": [],
   "source": [
    "h = CellDiameter(mesh)\n",
    "C = 1.0e3\n",
    "gamma = C/h\n",
    "\n",
    "f = Expression((\"0.0\",\"0.0\"), element = V.ufl_element())\n",
    "\n",
    "# Define variational problem on residual form: r(u,p;v,q) = 0\n",
    "residual = ( - p*div(v)*dx + inner(grad(u), grad(v))*dx + div(u)*q*dx + \n",
    "            gamma*(ib*inner(u - uin, v) + wb*inner(u, v))*ds - inner(f, v)*dx )\n",
    "\n",
    "# Solve algebraic system \n",
    "solve(residual == 0, w) "
   ]
  },
  {
   "cell_type": "markdown",
   "metadata": {
    "id": "SsQLT38gVbn_"
   },
   "source": [
    "## **Results**\n",
    "The velocity field is shown below. As expected, no instabilities seem to appear."
   ]
  },
  {
   "cell_type": "code",
   "execution_count": null,
   "metadata": {
    "colab": {
     "base_uri": "https://localhost:8080/",
     "height": 597
    },
    "executionInfo": {
     "elapsed": 12441,
     "status": "ok",
     "timestamp": 1618156531283,
     "user": {
      "displayName": "Miguel De le court",
      "photoUrl": "",
      "userId": "08576132637205452355"
     },
     "user_tz": -120
    },
    "id": "JUfvsjZPvBc0",
    "outputId": "4dc5a976-5a8f-4598-b2fa-78c18367e51c"
   },
   "outputs": [],
   "source": [
    "!rm results-NS/*\n",
    "\n",
    "# Open files to export solution to Paraview\n",
    "file_u = File(\"results-Stokes/u.pvd\")\n",
    "file_p = File(\"results-Etokes/p.pvd\")\n",
    "\n",
    "u1 = project(u, V)\n",
    "p1 = project(p, Q)\n",
    "\n",
    "# Save solution to file\n",
    "file_u << u1\n",
    "file_p << p1\n",
    "\n",
    "# Plot solution\n",
    "fig = plt.figure(figsize=(L*fsize,H*fsize))\n",
    "plot(mesh, color=\"k\", linewidth=0.1, alpha=0.7)\n",
    "plt.xlim((0,L)); plt.ylim((0,H))\n",
    "im = plot(u1, title=r\"\\textbf{Velocity field (CG2/CG1)}\")\n",
    "ax = plt.gca()\n",
    "cax = fig.add_axes([ax.get_position().x1+0.01,ax.get_position().y0,0.02,ax.get_position().height])\n",
    "plt.colorbar(im, cax=cax)\n",
    "plt.show()\n",
    "\n",
    "\n",
    "# Export files\n",
    "#!tar -czvf results-Stokes.tar.gz results-NS\n",
    "#files.download('results-Stokes.tar.gz')"
   ]
  },
  {
   "cell_type": "markdown",
   "metadata": {
    "id": "ZOAYXYuYkGAH"
   },
   "source": [
    "The same can be said for the pressure field below, verifying that the Taylor-Hood elements are indeed stable.\n"
   ]
  },
  {
   "cell_type": "code",
   "execution_count": null,
   "metadata": {
    "colab": {
     "base_uri": "https://localhost:8080/",
     "height": 395
    },
    "executionInfo": {
     "elapsed": 2559,
     "status": "ok",
     "timestamp": 1618156538642,
     "user": {
      "displayName": "Miguel De le court",
      "photoUrl": "",
      "userId": "08576132637205452355"
     },
     "user_tz": -120
    },
    "id": "0X3vRiO3kGAH",
    "outputId": "2952b0d1-472b-4614-fa9e-b02ea71a47c1"
   },
   "outputs": [],
   "source": [
    "fig = plt.figure(figsize=(L*fsize,H*fsize))\n",
    "plot(mesh, color=\"k\", linewidth=0.1, alpha=0.7)\n",
    "plt.xlim((0,L)); plt.ylim((0,H))\n",
    "im = plot(p1, title=r\"\\textbf{Pressure field (CG2/CG1)}\")\n",
    "ax = plt.gca()\n",
    "cax = fig.add_axes([ax.get_position().x1+0.01,ax.get_position().y0,0.02,ax.get_position().height])\n",
    "plt.colorbar(im, cax=cax)\n",
    "plt.show()\n"
   ]
  },
  {
   "cell_type": "markdown",
   "metadata": {
    "id": "mT-EQiBWkGAI"
   },
   "source": [
    "# Inf-sup condition: Equal order spaces\n",
    "We now recompute everything with first-order basis functions for the velocity and pressure.\n"
   ]
  },
  {
   "cell_type": "code",
   "execution_count": null,
   "metadata": {
    "colab": {
     "base_uri": "https://localhost:8080/"
    },
    "executionInfo": {
     "elapsed": 2033,
     "status": "ok",
     "timestamp": 1618156556451,
     "user": {
      "displayName": "Miguel De le court",
      "photoUrl": "",
      "userId": "08576132637205452355"
     },
     "user_tz": -120
    },
    "id": "lWMIjlhekGAI",
    "outputId": "bfecc2da-3f2a-4365-983d-b32a48f338b7"
   },
   "outputs": [],
   "source": [
    "u_th = u\n",
    "p_th = p\n",
    "\n",
    "# Generate mixed finite element spaces (for velocity and pressure)\n",
    "VE = VectorElement(\"CG\", mesh.ufl_cell(), 1)\n",
    "QE = FiniteElement(\"CG\", mesh.ufl_cell(), 1)\n",
    "WE = VE * QE\n",
    "\n",
    "W = FunctionSpace(mesh, WE)\n",
    "V = FunctionSpace(mesh, VE)\n",
    "Q = FunctionSpace(mesh, QE)\n",
    "\n",
    "\n",
    "\n",
    "# Define trial and test functions\n",
    "w = Function(W)\n",
    "(u, p) = (as_vector((w[0],w[1])), w[2])\n",
    "(v, q) = TestFunctions(W) "
   ]
  },
  {
   "cell_type": "code",
   "execution_count": null,
   "metadata": {
    "executionInfo": {
     "elapsed": 493,
     "status": "ok",
     "timestamp": 1618156559157,
     "user": {
      "displayName": "Miguel De le court",
      "photoUrl": "",
      "userId": "08576132637205452355"
     },
     "user_tz": -120
    },
    "id": "k7YL7o7JkGAJ"
   },
   "outputs": [],
   "source": [
    "# Examples of inflow and outflow conditions\n",
    "XMIN = 0.0; XMAX = L\n",
    "YMIN = 0.0; YMAX = H\n",
    "uin = Expression((\"4*(x[1]*(YMAX-x[1]))/(YMAX*YMAX)\", \"0.\"), YMAX=YMAX, element = V.ufl_element()) \n",
    "#pout = 0.0\n",
    "\n",
    "# Inflow boundary (ib), outflow boundary (ob) and wall boundary (wb)\n",
    "ib = Expression(\"near(x[0],XMIN) ? 1. : 0.\", XMIN=XMIN, element = Q.ufl_element())\n",
    "ob = Expression(\"near(x[0],XMAX) ? 1. : 0.\", XMAX=XMAX, element = Q.ufl_element()) \n",
    "wb = Expression(\"x[0] > XMIN + DOLFIN_EPS && x[0] < XMAX - DOLFIN_EPS ? 1. : 0.\", XMIN=XMIN, XMAX=XMAX, element = Q.ufl_element())"
   ]
  },
  {
   "cell_type": "code",
   "execution_count": null,
   "metadata": {
    "colab": {
     "base_uri": "https://localhost:8080/"
    },
    "executionInfo": {
     "elapsed": 2659,
     "status": "ok",
     "timestamp": 1618156564004,
     "user": {
      "displayName": "Miguel De le court",
      "photoUrl": "",
      "userId": "08576132637205452355"
     },
     "user_tz": -120
    },
    "id": "MT8nGguikGAJ",
    "outputId": "4fbe3121-6dd0-48ce-d87b-8556dde1ea24"
   },
   "outputs": [],
   "source": [
    "h = CellDiameter(mesh)\n",
    "C = 1.0e3\n",
    "gamma = C/h\n",
    "\n",
    "f = Expression((\"0.0\",\"0.0\"), element = V.ufl_element())\n",
    "\n",
    "# Define variational problem on residual form: r(u,p;v,q) = 0\n",
    "residual = ( - p*div(v)*dx + inner(grad(u), grad(v))*dx + div(u)*q*dx  + gamma*(ib*inner(u - uin, v) + wb*inner(u, v))*ds - inner(f, v)*dx) #+ 1e-2*h**2*inner(grad(p), grad(q))*dx\n",
    "\n",
    "# Solve algebraic system \n",
    "solve(residual == 0, w) "
   ]
  },
  {
   "cell_type": "code",
   "execution_count": null,
   "metadata": {
    "colab": {
     "base_uri": "https://localhost:8080/",
     "height": 487
    },
    "executionInfo": {
     "elapsed": 6651,
     "status": "ok",
     "timestamp": 1618156568787,
     "user": {
      "displayName": "Miguel De le court",
      "photoUrl": "",
      "userId": "08576132637205452355"
     },
     "user_tz": -120
    },
    "id": "QF9nMOZDkGAJ",
    "outputId": "3a296adf-6568-4dfb-fa1c-6acbdc1b4e87"
   },
   "outputs": [],
   "source": [
    "!rm results-NS/*\n",
    "\n",
    "# Open files to export solution to Paraview\n",
    "file_u = File(\"results-Stokes/u.pvd\")\n",
    "file_p = File(\"results-Etokes/p.pvd\")\n",
    "\n",
    "u1 = project(u, V)\n",
    "p1 = project(p, Q)\n",
    "\n",
    "# Save solution to file\n",
    "file_u << u1\n",
    "file_p << p1\n",
    "\n",
    "# Plot solution\n",
    "fig = plt.figure(figsize=(L*fsize,H*fsize))\n",
    "plot(mesh, color=\"k\", linewidth=0.1, alpha=0.7)\n",
    "plt.xlim((0,L)); plt.ylim((0,H))\n",
    "im = plot(u1, title=r\"\\textbf{Velocity field (CG1/CG1)}\")\n",
    "ax = plt.gca()\n",
    "cax = fig.add_axes([ax.get_position().x1+0.01,ax.get_position().y0,0.02,ax.get_position().height])\n",
    "plt.colorbar(im, cax=cax)\n",
    "plt.show()\n",
    "\n",
    "# Export files\n",
    "#!tar -czvf results-Stokes.tar.gz results-NS\n",
    "#files.download('results-Stokes.tar.gz')"
   ]
  },
  {
   "cell_type": "markdown",
   "metadata": {
    "id": "nblQ1JCRkGAJ"
   },
   "source": [
    "## **Results**\n",
    "\n",
    "While at first glance the velocity field shown above seems reasonable, the pressure shown below reveals the instabilities. Those manifest mainly around the center hole as high frequency perturbations, resulting in an arbitrarily large pressure gradient."
   ]
  },
  {
   "cell_type": "code",
   "execution_count": null,
   "metadata": {
    "colab": {
     "base_uri": "https://localhost:8080/",
     "height": 395
    },
    "executionInfo": {
     "elapsed": 2685,
     "status": "ok",
     "timestamp": 1618156582275,
     "user": {
      "displayName": "Miguel De le court",
      "photoUrl": "",
      "userId": "08576132637205452355"
     },
     "user_tz": -120
    },
    "id": "hsKgVYQakGAK",
    "outputId": "e28b2130-ad79-4ffc-ba1d-0bc9b43217c1"
   },
   "outputs": [],
   "source": [
    "fig = plt.figure(figsize=(L*fsize,H*fsize))\n",
    "plot(mesh, color=\"k\", linewidth=0.1, alpha=0.7)\n",
    "plt.xlim((0,L)); plt.ylim((0,H))\n",
    "im = plot(p1, title=r\"\\textbf{Pressure field (CG1/CG1)}\")\n",
    "ax = plt.gca()\n",
    "cax = fig.add_axes([ax.get_position().x1+0.01,ax.get_position().y0,0.02,ax.get_position().height])\n",
    "plt.colorbar(im, cax=cax)\n",
    "plt.show()\n"
   ]
  },
  {
   "cell_type": "markdown",
   "metadata": {
    "id": "9EhDHGjvkGAK"
   },
   "source": [
    "This is confirmed, as can be seen on the figures below. The pressure gradient computed with CG1/CG1 elements goes to more than 4000 here, and this value increases with the mesh refinement. Note that when the mesh is refined locally around the center hole, the boundary doesn't change, meaning that sharp angles remain. This non-smooth boundary causes large gradients in the pressure for both methods. The difference is that these large gradients do not appear with CG2/CG1 it the boundary is smooth. The pressure gradient from the previous solution (CG2/CG1) remains bounded at around 80 if there is no *local* mesh refinement, and at around 500 when we *locally* refine the mesh once.\n"
   ]
  },
  {
   "cell_type": "code",
   "execution_count": null,
   "metadata": {
    "colab": {
     "base_uri": "https://localhost:8080/",
     "height": 810
    },
    "executionInfo": {
     "elapsed": 4364,
     "status": "ok",
     "timestamp": 1618156591231,
     "user": {
      "displayName": "Miguel De le court",
      "photoUrl": "",
      "userId": "08576132637205452355"
     },
     "user_tz": -120
    },
    "id": "4n4lnE4ekGAK",
    "outputId": "7a0a186f-90e9-4db8-ae7c-556998535592"
   },
   "outputs": [],
   "source": [
    "fig = plt.figure(figsize=(L*fsize,H*fsize))\n",
    "plot(mesh, color=\"k\", linewidth=0.1, alpha=0.7)\n",
    "plt.xlim((0,L)); plt.ylim((0,H))\n",
    "im = plot(inner(grad(p1), grad(p1))**0.5, title=r\"\\textbf{Norm of the pressure gradient (CG1/CG1)}\")\n",
    "ax = plt.gca()\n",
    "cax = fig.add_axes([ax.get_position().x1+0.01,ax.get_position().y0,0.02,ax.get_position().height])\n",
    "plt.colorbar(im, cax=cax)\n",
    "plt.show()\n",
    "\n",
    "fig = plt.figure(figsize=(L*fsize,H*fsize))\n",
    "plot(mesh, color=\"k\", linewidth=0.1, alpha=0.7)\n",
    "plt.xlim((0,L)); plt.ylim((0,H))\n",
    "im = plot(inner(grad(p_th), grad(p_th))**0.5, title=r\"\\textbf{Norm of the pressure gradient (CG2/CG1)}\")\n",
    "ax = plt.gca()\n",
    "cax = fig.add_axes([ax.get_position().x1+0.01,ax.get_position().y0,0.02,ax.get_position().height])\n",
    "plt.colorbar(im, cax=cax)\n",
    "plt.show()"
   ]
  },
  {
   "cell_type": "markdown",
   "metadata": {
    "id": "G9xweMc2kGAL"
   },
   "source": [
    "# **Equal order spaces with stabilization**\n",
    "We now introduce the Brezzi-Pitkäranta stabilization in the CG1-CG1 model. The only change is an added term in the weak form of the equation:\n",
    "\n",
    "$$\n",
    "r(u,p;v,q) = - (p,\\nabla \\cdot v) + (\\nabla u,\\nabla v) + (\\nabla \\cdot u, q) + C h^2( \\nabla p, \\nabla q ) - (f,v)\n",
    "$$\n",
    "\n",
    "where $C$ is a constant and $h$ is the local element size. \n"
   ]
  },
  {
   "cell_type": "code",
   "execution_count": null,
   "metadata": {
    "colab": {
     "base_uri": "https://localhost:8080/"
    },
    "executionInfo": {
     "elapsed": 2088,
     "status": "ok",
     "timestamp": 1618156603102,
     "user": {
      "displayName": "Miguel De le court",
      "photoUrl": "",
      "userId": "08576132637205452355"
     },
     "user_tz": -120
    },
    "id": "9CfCiTWlkGAL",
    "outputId": "e0659753-aef1-438d-d7ff-d7350fe04049"
   },
   "outputs": [],
   "source": [
    "u_11 = u\n",
    "p_11 = p\n",
    "w = Function(W)\n",
    "(u, p) = (as_vector((w[0],w[1])), w[2])\n",
    "(v, q) = TestFunctions(W) \n",
    "\n",
    "h = CellDiameter(mesh)\n",
    "C = 1.0e3\n",
    "gamma = C/h\n",
    "\n",
    "f = Expression((\"0.0\",\"0.0\"), element = V.ufl_element())\n",
    "\n",
    "# Define variational problem on residual form: r(u,p;v,q) = 0\n",
    "residual = ( - p*div(v)*dx + inner(grad(u), grad(v))*dx + div(u)*q*dx  + gamma*(ib*inner(u - uin, v) + wb*inner(u, v))*ds - inner(f, v)*dx + 1e-1*h**2*inner(grad(p), grad(q))*dx)\n",
    "\n",
    "# Solve algebraic system \n",
    "solve(residual == 0, w) "
   ]
  },
  {
   "cell_type": "code",
   "execution_count": null,
   "metadata": {
    "colab": {
     "base_uri": "https://localhost:8080/",
     "height": 791
    },
    "executionInfo": {
     "elapsed": 4553,
     "status": "ok",
     "timestamp": 1618156606198,
     "user": {
      "displayName": "Miguel De le court",
      "photoUrl": "",
      "userId": "08576132637205452355"
     },
     "user_tz": -120
    },
    "id": "ZopkxIQlkGAL",
    "outputId": "1df03424-c13c-43b1-c497-0dd3cf592fb4"
   },
   "outputs": [],
   "source": [
    "!rm results-NS/*\n",
    "\n",
    "# Open files to export solution to Paraview\n",
    "file_u = File(\"results-Stokes/u.pvd\")\n",
    "file_p = File(\"results-Etokes/p.pvd\")\n",
    "\n",
    "u1 = project(u, V)\n",
    "p1 = project(p, Q)\n",
    "\n",
    "# Save solution to file\n",
    "file_u << u1\n",
    "file_p << p1\n",
    "\n",
    "# Plot solution (velocity is not very interesting)\n",
    "\"\"\"\n",
    "fig = plt.figure(figsize=(H*fsize,L*fsize))\n",
    "plot(mesh, color=\"k\", linewidth=0.1, alpha=0.7)\n",
    "plt.xlim((0,L)); plt.ylim((0,H))\n",
    "im = plot(u1, title=\"Velocity field (CG1/CG1)\")\n",
    "ax = plt.gca()\n",
    "cax = fig.add_axes([ax.get_position().x1+0.01,ax.get_position().y0,0.02,ax.get_position().height])\n",
    "plt.colorbar(im, cax=cax)\n",
    "plt.show()\n",
    "\"\"\"\n",
    "\n",
    "fig = plt.figure(figsize=(L*fsize, H*fsize))\n",
    "plot(mesh, color=\"k\", linewidth=0.1, alpha=0.7)\n",
    "plt.xlim((0,L)); plt.ylim((0,H))\n",
    "im = plot(p1, title=r\"\\textbf{Pressure field (CG1/CG1) + stabilization}\")\n",
    "ax = plt.gca()\n",
    "cax = fig.add_axes([ax.get_position().x1+0.01,ax.get_position().y0,0.02,ax.get_position().height])\n",
    "plt.colorbar(im, cax=cax)\n",
    "\n",
    "\n",
    "fig = plt.figure(figsize=(L*fsize, H*fsize))\n",
    "plot(mesh, color=\"k\", linewidth=0.1, alpha=0.7)\n",
    "plt.xlim((0,L)); plt.ylim((0,H))\n",
    "im = plot(p_th, title=r\"\\textbf{Pressure field (CG2/CG1)}\")\n",
    "ax = plt.gca()\n",
    "cax = fig.add_axes([ax.get_position().x1+0.01,ax.get_position().y0,0.02,ax.get_position().height])\n",
    "plt.colorbar(im, cax=cax)\n",
    "plt.show()\n",
    "# Export files\n",
    "#!tar -czvf results-Stokes.tar.gz results-NS\n",
    "#files.download('results-Stokes.tar.gz')"
   ]
  },
  {
   "cell_type": "markdown",
   "metadata": {
    "id": "K-L4gq5nkGAL"
   },
   "source": [
    "As can be seen above, Brezzi-Pitkäranta stabilization removes the spurious oscillations in the  pressure. It is worth nothing that the behaviour of the stabilization depends a lot on the value of the constant $C$. Here we set $C$ to $0.1$. A larger value tends to excessively smooth the pressure, while a value too small ($<<0.01$ here) is barely different from the non-stabilised simuation. A larger value of $C$ also mitigates the effects of the sharp corners on the pressure gradient, as can be seen below."
   ]
  },
  {
   "cell_type": "code",
   "execution_count": null,
   "metadata": {
    "colab": {
     "base_uri": "https://localhost:8080/",
     "height": 773
    },
    "executionInfo": {
     "elapsed": 2702,
     "status": "ok",
     "timestamp": 1618156616154,
     "user": {
      "displayName": "Miguel De le court",
      "photoUrl": "",
      "userId": "08576132637205452355"
     },
     "user_tz": -120
    },
    "id": "admANBn9kGAL",
    "outputId": "ab547eda-96ec-4fad-e89e-e174863d097d"
   },
   "outputs": [],
   "source": [
    "fig = plt.figure(figsize=(L*fsize,H*fsize))\n",
    "plot(mesh, color=\"k\", linewidth=0.1, alpha=0.7)\n",
    "plt.xlim((0,L)); plt.ylim((0,H))\n",
    "im = plot(inner(grad(p1), grad(p1))**0.5, title=r\"\\textbf{Norm of the pressure gradient (CG1/CG1) + stabilization}\")\n",
    "ax = plt.gca()\n",
    "cax = fig.add_axes([ax.get_position().x1+0.01,ax.get_position().y0,0.02,ax.get_position().height])\n",
    "plt.colorbar(im, cax=cax)\n",
    "plt.show()\n",
    "\n",
    "fig = plt.figure(figsize=(L*fsize,H*fsize))\n",
    "plot(mesh, color=\"k\", linewidth=0.1, alpha=0.7)\n",
    "plt.xlim((0,L)); plt.ylim((0,H))\n",
    "im = plot(inner(grad(p_th), grad(p_th))**0.5, title=r\"\\textbf{Norm of the pressure gradient (CG2/CG1)}\")\n",
    "ax = plt.gca()\n",
    "cax = fig.add_axes([ax.get_position().x1+0.01,ax.get_position().y0,0.02,ax.get_position().height])\n",
    "plt.colorbar(im, cax=cax)\n",
    "plt.show()\n"
   ]
  },
  {
   "cell_type": "markdown",
   "metadata": {
    "id": "6bcsDSoRXHZe"
   },
   "source": [
    "# **Discussion**\n",
    "\n",
    "In conclusion, we observed that a Taylor-Hood mixed finite element method was was stable to solve the Stokes equations in 2D. By contrast, equal order elements for the pressure and velocity result in an instalble method and spurious oscillations in the pressure. An equal order interpolation is possible if a stabilization term is added such as the Brezzi-Pitkäranta stabilization. All the methods were tested for the model problem of flow past a number of circular obstacles, and the solution behaved as expected.  "
   ]
  }
 ],
 "metadata": {
  "colab": {
   "name": "MiguelDLC_lab1.ipynb",
   "provenance": []
  },
  "kernelspec": {
   "display_name": "Python 3",
   "language": "python",
   "name": "python3"
  },
  "language_info": {
   "codemirror_mode": {
    "name": "ipython",
    "version": 3
   },
   "file_extension": ".py",
   "mimetype": "text/x-python",
   "name": "python",
   "nbconvert_exporter": "python",
   "pygments_lexer": "ipython3",
   "version": "3.8.5"
  }
 },
 "nbformat": 4,
 "nbformat_minor": 1
}
